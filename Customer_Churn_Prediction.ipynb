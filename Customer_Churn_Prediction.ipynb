{
  "cells": [
    {
      "cell_type": "markdown",
      "metadata": {
        "id": "view-in-github",
        "colab_type": "text"
      },
      "source": [
        "<a href=\"https://colab.research.google.com/github/Pandya16/Datasets1/blob/main/Customer_Churn_Prediction.ipynb\" target=\"_parent\"><img src=\"https://colab.research.google.com/assets/colab-badge.svg\" alt=\"Open In Colab\"/></a>"
      ]
    },
    {
      "cell_type": "code",
      "execution_count": null,
      "metadata": {
        "id": "Z4wCWYpKbmcw"
      },
      "outputs": [],
      "source": [
        "import pandas as pd\n",
        "import numpy as np\n",
        "import matplotlib.pyplot as plt\n",
        "import tensorflow as tf\n",
        "from tensorflow import keras"
      ]
    },
    {
      "cell_type": "code",
      "source": [
        "df = pd.read_csv('customer_churn.csv')\n",
        "df.head()"
      ],
      "metadata": {
        "id": "dc-HGIncgNKD"
      },
      "execution_count": null,
      "outputs": []
    },
    {
      "cell_type": "code",
      "source": [
        "df.drop('customerID', axis=1, inplace=True)"
      ],
      "metadata": {
        "id": "bxjppmROgnAc"
      },
      "execution_count": null,
      "outputs": []
    },
    {
      "cell_type": "code",
      "source": [
        "pd.to_numeric(df.TotalCharges, errors='coerce')"
      ],
      "metadata": {
        "id": "8ZlqyufJgygv",
        "colab": {
          "base_uri": "https://localhost:8080/"
        },
        "outputId": "b6968f62-08d6-4eea-c91b-8a5529946c2d"
      },
      "execution_count": null,
      "outputs": [
        {
          "output_type": "execute_result",
          "data": {
            "text/plain": [
              "0         29.85\n",
              "1       1889.50\n",
              "2        108.15\n",
              "3       1840.75\n",
              "4        151.65\n",
              "         ...   \n",
              "7038    1990.50\n",
              "7039    7362.90\n",
              "7040     346.45\n",
              "7041     306.60\n",
              "7042    6844.50\n",
              "Name: TotalCharges, Length: 7043, dtype: float64"
            ]
          },
          "metadata": {},
          "execution_count": 4
        }
      ]
    },
    {
      "cell_type": "code",
      "source": [
        "df1 = df[df.TotalCharges!=' ']"
      ],
      "metadata": {
        "id": "XH2Rdu8uhKs1"
      },
      "execution_count": null,
      "outputs": []
    },
    {
      "cell_type": "code",
      "source": [
        "df1.TotalCharges = pd.to_numeric(df1.TotalCharges)"
      ],
      "metadata": {
        "id": "503M-p0oiguq",
        "colab": {
          "base_uri": "https://localhost:8080/"
        },
        "outputId": "cd190bcc-550a-4937-b510-6c4ee3fcdb1a"
      },
      "execution_count": null,
      "outputs": [
        {
          "output_type": "stream",
          "name": "stderr",
          "text": [
            "<ipython-input-6-b67e0c3d31a6>:1: SettingWithCopyWarning: \n",
            "A value is trying to be set on a copy of a slice from a DataFrame.\n",
            "Try using .loc[row_indexer,col_indexer] = value instead\n",
            "\n",
            "See the caveats in the documentation: https://pandas.pydata.org/pandas-docs/stable/user_guide/indexing.html#returning-a-view-versus-a-copy\n",
            "  df1.TotalCharges = pd.to_numeric(df1.TotalCharges)\n"
          ]
        }
      ]
    },
    {
      "cell_type": "code",
      "source": [
        "tenure_churn_no = df1[df1.Churn=='No'].tenure\n",
        "tenure_churn_yes = df1[df1.Churn=='Yes'].tenure\n",
        "plt.xlabel('Tenure')\n",
        "plt.ylabel('No. of customers')\n",
        "plt.title('Customer Churn prediction visualization')\n",
        "plt.hist([tenure_churn_yes, tenure_churn_no], label=['Churn=Yes', 'Churn=No'])\n",
        "plt.legend()"
      ],
      "metadata": {
        "id": "Otn1HphMisDX"
      },
      "execution_count": null,
      "outputs": []
    },
    {
      "cell_type": "code",
      "source": [
        "for column in df:\n",
        "  if df[column].dtypes=='object':\n",
        "    print(f'{column} : {df[column].unique()}')"
      ],
      "metadata": {
        "id": "BfgNwAiWk-eE"
      },
      "execution_count": null,
      "outputs": []
    },
    {
      "cell_type": "code",
      "source": [
        "df1.replace('No internet service', 'No', inplace=True)\n",
        "df1.replace('No phone service', 'No', inplace=True)"
      ],
      "metadata": {
        "id": "GgqFzfQQSF8e"
      },
      "execution_count": null,
      "outputs": []
    },
    {
      "cell_type": "code",
      "source": [
        "yes_no_columns = ['Partner','Dependents','PhoneService','MultipleLines','OnlineSecurity','OnlineBackup',\n",
        "                  'DeviceProtection','TechSupport','StreamingTV','StreamingMovies','PaperlessBilling','Churn']"
      ],
      "metadata": {
        "id": "4TRSXacbScV1"
      },
      "execution_count": null,
      "outputs": []
    },
    {
      "cell_type": "code",
      "source": [
        "for col in yes_no_columns:\n",
        "  df1[col].replace({'Yes' :1, 'No': 0}, inplace=True)"
      ],
      "metadata": {
        "id": "E7WfuhMmTFrX"
      },
      "execution_count": null,
      "outputs": []
    },
    {
      "cell_type": "code",
      "source": [
        "df1['gender'].replace({'Female': 1, 'Male': 0}, inplace=True)"
      ],
      "metadata": {
        "id": "P9IuIIYVTUup"
      },
      "execution_count": null,
      "outputs": []
    },
    {
      "cell_type": "code",
      "source": [
        "for col in df1:\n",
        "    print(f'{col}: {df1[col].unique()}')"
      ],
      "metadata": {
        "id": "mXQhU7iuTkaL"
      },
      "execution_count": null,
      "outputs": []
    },
    {
      "cell_type": "code",
      "source": [
        "df2 = pd.get_dummies(data=df1, columns=['InternetService', 'Contract', 'PaymentMethod'])"
      ],
      "metadata": {
        "id": "9OiDfxpaT4Ek"
      },
      "execution_count": null,
      "outputs": []
    },
    {
      "cell_type": "code",
      "source": [
        "df2.head()"
      ],
      "metadata": {
        "id": "zpxfJt8CUe90",
        "colab": {
          "base_uri": "https://localhost:8080/",
          "height": 290
        },
        "outputId": "0a419a29-5651-41e8-fc4a-b4995b09b33d"
      },
      "execution_count": null,
      "outputs": [
        {
          "output_type": "execute_result",
          "data": {
            "text/plain": [
              "   gender  SeniorCitizen  Partner  Dependents  tenure  PhoneService  \\\n",
              "0       1              0        1           0       1             0   \n",
              "1       0              0        0           0      34             1   \n",
              "2       0              0        0           0       2             1   \n",
              "3       0              0        0           0      45             0   \n",
              "4       1              0        0           0       2             1   \n",
              "\n",
              "   MultipleLines  OnlineSecurity  OnlineBackup  DeviceProtection  ...  \\\n",
              "0              0               0             1                 0  ...   \n",
              "1              0               1             0                 1  ...   \n",
              "2              0               1             1                 0  ...   \n",
              "3              0               1             0                 1  ...   \n",
              "4              0               0             0                 0  ...   \n",
              "\n",
              "   InternetService_DSL  InternetService_Fiber optic  InternetService_No  \\\n",
              "0                    1                            0                   0   \n",
              "1                    1                            0                   0   \n",
              "2                    1                            0                   0   \n",
              "3                    1                            0                   0   \n",
              "4                    0                            1                   0   \n",
              "\n",
              "   Contract_Month-to-month  Contract_One year  Contract_Two year  \\\n",
              "0                        1                  0                  0   \n",
              "1                        0                  1                  0   \n",
              "2                        1                  0                  0   \n",
              "3                        0                  1                  0   \n",
              "4                        1                  0                  0   \n",
              "\n",
              "   PaymentMethod_Bank transfer (automatic)  \\\n",
              "0                                        0   \n",
              "1                                        0   \n",
              "2                                        0   \n",
              "3                                        1   \n",
              "4                                        0   \n",
              "\n",
              "   PaymentMethod_Credit card (automatic)  PaymentMethod_Electronic check  \\\n",
              "0                                      0                               1   \n",
              "1                                      0                               0   \n",
              "2                                      0                               0   \n",
              "3                                      0                               0   \n",
              "4                                      0                               1   \n",
              "\n",
              "   PaymentMethod_Mailed check  \n",
              "0                           0  \n",
              "1                           1  \n",
              "2                           1  \n",
              "3                           0  \n",
              "4                           0  \n",
              "\n",
              "[5 rows x 27 columns]"
            ],
            "text/html": [
              "\n",
              "  <div id=\"df-10cfef40-efe3-4d60-8acd-cd5d16f4998d\" class=\"colab-df-container\">\n",
              "    <div>\n",
              "<style scoped>\n",
              "    .dataframe tbody tr th:only-of-type {\n",
              "        vertical-align: middle;\n",
              "    }\n",
              "\n",
              "    .dataframe tbody tr th {\n",
              "        vertical-align: top;\n",
              "    }\n",
              "\n",
              "    .dataframe thead th {\n",
              "        text-align: right;\n",
              "    }\n",
              "</style>\n",
              "<table border=\"1\" class=\"dataframe\">\n",
              "  <thead>\n",
              "    <tr style=\"text-align: right;\">\n",
              "      <th></th>\n",
              "      <th>gender</th>\n",
              "      <th>SeniorCitizen</th>\n",
              "      <th>Partner</th>\n",
              "      <th>Dependents</th>\n",
              "      <th>tenure</th>\n",
              "      <th>PhoneService</th>\n",
              "      <th>MultipleLines</th>\n",
              "      <th>OnlineSecurity</th>\n",
              "      <th>OnlineBackup</th>\n",
              "      <th>DeviceProtection</th>\n",
              "      <th>...</th>\n",
              "      <th>InternetService_DSL</th>\n",
              "      <th>InternetService_Fiber optic</th>\n",
              "      <th>InternetService_No</th>\n",
              "      <th>Contract_Month-to-month</th>\n",
              "      <th>Contract_One year</th>\n",
              "      <th>Contract_Two year</th>\n",
              "      <th>PaymentMethod_Bank transfer (automatic)</th>\n",
              "      <th>PaymentMethod_Credit card (automatic)</th>\n",
              "      <th>PaymentMethod_Electronic check</th>\n",
              "      <th>PaymentMethod_Mailed check</th>\n",
              "    </tr>\n",
              "  </thead>\n",
              "  <tbody>\n",
              "    <tr>\n",
              "      <th>0</th>\n",
              "      <td>1</td>\n",
              "      <td>0</td>\n",
              "      <td>1</td>\n",
              "      <td>0</td>\n",
              "      <td>1</td>\n",
              "      <td>0</td>\n",
              "      <td>0</td>\n",
              "      <td>0</td>\n",
              "      <td>1</td>\n",
              "      <td>0</td>\n",
              "      <td>...</td>\n",
              "      <td>1</td>\n",
              "      <td>0</td>\n",
              "      <td>0</td>\n",
              "      <td>1</td>\n",
              "      <td>0</td>\n",
              "      <td>0</td>\n",
              "      <td>0</td>\n",
              "      <td>0</td>\n",
              "      <td>1</td>\n",
              "      <td>0</td>\n",
              "    </tr>\n",
              "    <tr>\n",
              "      <th>1</th>\n",
              "      <td>0</td>\n",
              "      <td>0</td>\n",
              "      <td>0</td>\n",
              "      <td>0</td>\n",
              "      <td>34</td>\n",
              "      <td>1</td>\n",
              "      <td>0</td>\n",
              "      <td>1</td>\n",
              "      <td>0</td>\n",
              "      <td>1</td>\n",
              "      <td>...</td>\n",
              "      <td>1</td>\n",
              "      <td>0</td>\n",
              "      <td>0</td>\n",
              "      <td>0</td>\n",
              "      <td>1</td>\n",
              "      <td>0</td>\n",
              "      <td>0</td>\n",
              "      <td>0</td>\n",
              "      <td>0</td>\n",
              "      <td>1</td>\n",
              "    </tr>\n",
              "    <tr>\n",
              "      <th>2</th>\n",
              "      <td>0</td>\n",
              "      <td>0</td>\n",
              "      <td>0</td>\n",
              "      <td>0</td>\n",
              "      <td>2</td>\n",
              "      <td>1</td>\n",
              "      <td>0</td>\n",
              "      <td>1</td>\n",
              "      <td>1</td>\n",
              "      <td>0</td>\n",
              "      <td>...</td>\n",
              "      <td>1</td>\n",
              "      <td>0</td>\n",
              "      <td>0</td>\n",
              "      <td>1</td>\n",
              "      <td>0</td>\n",
              "      <td>0</td>\n",
              "      <td>0</td>\n",
              "      <td>0</td>\n",
              "      <td>0</td>\n",
              "      <td>1</td>\n",
              "    </tr>\n",
              "    <tr>\n",
              "      <th>3</th>\n",
              "      <td>0</td>\n",
              "      <td>0</td>\n",
              "      <td>0</td>\n",
              "      <td>0</td>\n",
              "      <td>45</td>\n",
              "      <td>0</td>\n",
              "      <td>0</td>\n",
              "      <td>1</td>\n",
              "      <td>0</td>\n",
              "      <td>1</td>\n",
              "      <td>...</td>\n",
              "      <td>1</td>\n",
              "      <td>0</td>\n",
              "      <td>0</td>\n",
              "      <td>0</td>\n",
              "      <td>1</td>\n",
              "      <td>0</td>\n",
              "      <td>1</td>\n",
              "      <td>0</td>\n",
              "      <td>0</td>\n",
              "      <td>0</td>\n",
              "    </tr>\n",
              "    <tr>\n",
              "      <th>4</th>\n",
              "      <td>1</td>\n",
              "      <td>0</td>\n",
              "      <td>0</td>\n",
              "      <td>0</td>\n",
              "      <td>2</td>\n",
              "      <td>1</td>\n",
              "      <td>0</td>\n",
              "      <td>0</td>\n",
              "      <td>0</td>\n",
              "      <td>0</td>\n",
              "      <td>...</td>\n",
              "      <td>0</td>\n",
              "      <td>1</td>\n",
              "      <td>0</td>\n",
              "      <td>1</td>\n",
              "      <td>0</td>\n",
              "      <td>0</td>\n",
              "      <td>0</td>\n",
              "      <td>0</td>\n",
              "      <td>1</td>\n",
              "      <td>0</td>\n",
              "    </tr>\n",
              "  </tbody>\n",
              "</table>\n",
              "<p>5 rows × 27 columns</p>\n",
              "</div>\n",
              "    <div class=\"colab-df-buttons\">\n",
              "\n",
              "  <div class=\"colab-df-container\">\n",
              "    <button class=\"colab-df-convert\" onclick=\"convertToInteractive('df-10cfef40-efe3-4d60-8acd-cd5d16f4998d')\"\n",
              "            title=\"Convert this dataframe to an interactive table.\"\n",
              "            style=\"display:none;\">\n",
              "\n",
              "  <svg xmlns=\"http://www.w3.org/2000/svg\" height=\"24px\" viewBox=\"0 -960 960 960\">\n",
              "    <path d=\"M120-120v-720h720v720H120Zm60-500h600v-160H180v160Zm220 220h160v-160H400v160Zm0 220h160v-160H400v160ZM180-400h160v-160H180v160Zm440 0h160v-160H620v160ZM180-180h160v-160H180v160Zm440 0h160v-160H620v160Z\"/>\n",
              "  </svg>\n",
              "    </button>\n",
              "\n",
              "  <style>\n",
              "    .colab-df-container {\n",
              "      display:flex;\n",
              "      gap: 12px;\n",
              "    }\n",
              "\n",
              "    .colab-df-convert {\n",
              "      background-color: #E8F0FE;\n",
              "      border: none;\n",
              "      border-radius: 50%;\n",
              "      cursor: pointer;\n",
              "      display: none;\n",
              "      fill: #1967D2;\n",
              "      height: 32px;\n",
              "      padding: 0 0 0 0;\n",
              "      width: 32px;\n",
              "    }\n",
              "\n",
              "    .colab-df-convert:hover {\n",
              "      background-color: #E2EBFA;\n",
              "      box-shadow: 0px 1px 2px rgba(60, 64, 67, 0.3), 0px 1px 3px 1px rgba(60, 64, 67, 0.15);\n",
              "      fill: #174EA6;\n",
              "    }\n",
              "\n",
              "    .colab-df-buttons div {\n",
              "      margin-bottom: 4px;\n",
              "    }\n",
              "\n",
              "    [theme=dark] .colab-df-convert {\n",
              "      background-color: #3B4455;\n",
              "      fill: #D2E3FC;\n",
              "    }\n",
              "\n",
              "    [theme=dark] .colab-df-convert:hover {\n",
              "      background-color: #434B5C;\n",
              "      box-shadow: 0px 1px 3px 1px rgba(0, 0, 0, 0.15);\n",
              "      filter: drop-shadow(0px 1px 2px rgba(0, 0, 0, 0.3));\n",
              "      fill: #FFFFFF;\n",
              "    }\n",
              "  </style>\n",
              "\n",
              "    <script>\n",
              "      const buttonEl =\n",
              "        document.querySelector('#df-10cfef40-efe3-4d60-8acd-cd5d16f4998d button.colab-df-convert');\n",
              "      buttonEl.style.display =\n",
              "        google.colab.kernel.accessAllowed ? 'block' : 'none';\n",
              "\n",
              "      async function convertToInteractive(key) {\n",
              "        const element = document.querySelector('#df-10cfef40-efe3-4d60-8acd-cd5d16f4998d');\n",
              "        const dataTable =\n",
              "          await google.colab.kernel.invokeFunction('convertToInteractive',\n",
              "                                                    [key], {});\n",
              "        if (!dataTable) return;\n",
              "\n",
              "        const docLinkHtml = 'Like what you see? Visit the ' +\n",
              "          '<a target=\"_blank\" href=https://colab.research.google.com/notebooks/data_table.ipynb>data table notebook</a>'\n",
              "          + ' to learn more about interactive tables.';\n",
              "        element.innerHTML = '';\n",
              "        dataTable['output_type'] = 'display_data';\n",
              "        await google.colab.output.renderOutput(dataTable, element);\n",
              "        const docLink = document.createElement('div');\n",
              "        docLink.innerHTML = docLinkHtml;\n",
              "        element.appendChild(docLink);\n",
              "      }\n",
              "    </script>\n",
              "  </div>\n",
              "\n",
              "\n",
              "<div id=\"df-24b3e8f9-f5f7-4f4b-ace0-e0eeecc675e9\">\n",
              "  <button class=\"colab-df-quickchart\" onclick=\"quickchart('df-24b3e8f9-f5f7-4f4b-ace0-e0eeecc675e9')\"\n",
              "            title=\"Suggest charts\"\n",
              "            style=\"display:none;\">\n",
              "\n",
              "<svg xmlns=\"http://www.w3.org/2000/svg\" height=\"24px\"viewBox=\"0 0 24 24\"\n",
              "     width=\"24px\">\n",
              "    <g>\n",
              "        <path d=\"M19 3H5c-1.1 0-2 .9-2 2v14c0 1.1.9 2 2 2h14c1.1 0 2-.9 2-2V5c0-1.1-.9-2-2-2zM9 17H7v-7h2v7zm4 0h-2V7h2v10zm4 0h-2v-4h2v4z\"/>\n",
              "    </g>\n",
              "</svg>\n",
              "  </button>\n",
              "\n",
              "<style>\n",
              "  .colab-df-quickchart {\n",
              "      --bg-color: #E8F0FE;\n",
              "      --fill-color: #1967D2;\n",
              "      --hover-bg-color: #E2EBFA;\n",
              "      --hover-fill-color: #174EA6;\n",
              "      --disabled-fill-color: #AAA;\n",
              "      --disabled-bg-color: #DDD;\n",
              "  }\n",
              "\n",
              "  [theme=dark] .colab-df-quickchart {\n",
              "      --bg-color: #3B4455;\n",
              "      --fill-color: #D2E3FC;\n",
              "      --hover-bg-color: #434B5C;\n",
              "      --hover-fill-color: #FFFFFF;\n",
              "      --disabled-bg-color: #3B4455;\n",
              "      --disabled-fill-color: #666;\n",
              "  }\n",
              "\n",
              "  .colab-df-quickchart {\n",
              "    background-color: var(--bg-color);\n",
              "    border: none;\n",
              "    border-radius: 50%;\n",
              "    cursor: pointer;\n",
              "    display: none;\n",
              "    fill: var(--fill-color);\n",
              "    height: 32px;\n",
              "    padding: 0;\n",
              "    width: 32px;\n",
              "  }\n",
              "\n",
              "  .colab-df-quickchart:hover {\n",
              "    background-color: var(--hover-bg-color);\n",
              "    box-shadow: 0 1px 2px rgba(60, 64, 67, 0.3), 0 1px 3px 1px rgba(60, 64, 67, 0.15);\n",
              "    fill: var(--button-hover-fill-color);\n",
              "  }\n",
              "\n",
              "  .colab-df-quickchart-complete:disabled,\n",
              "  .colab-df-quickchart-complete:disabled:hover {\n",
              "    background-color: var(--disabled-bg-color);\n",
              "    fill: var(--disabled-fill-color);\n",
              "    box-shadow: none;\n",
              "  }\n",
              "\n",
              "  .colab-df-spinner {\n",
              "    border: 2px solid var(--fill-color);\n",
              "    border-color: transparent;\n",
              "    border-bottom-color: var(--fill-color);\n",
              "    animation:\n",
              "      spin 1s steps(1) infinite;\n",
              "  }\n",
              "\n",
              "  @keyframes spin {\n",
              "    0% {\n",
              "      border-color: transparent;\n",
              "      border-bottom-color: var(--fill-color);\n",
              "      border-left-color: var(--fill-color);\n",
              "    }\n",
              "    20% {\n",
              "      border-color: transparent;\n",
              "      border-left-color: var(--fill-color);\n",
              "      border-top-color: var(--fill-color);\n",
              "    }\n",
              "    30% {\n",
              "      border-color: transparent;\n",
              "      border-left-color: var(--fill-color);\n",
              "      border-top-color: var(--fill-color);\n",
              "      border-right-color: var(--fill-color);\n",
              "    }\n",
              "    40% {\n",
              "      border-color: transparent;\n",
              "      border-right-color: var(--fill-color);\n",
              "      border-top-color: var(--fill-color);\n",
              "    }\n",
              "    60% {\n",
              "      border-color: transparent;\n",
              "      border-right-color: var(--fill-color);\n",
              "    }\n",
              "    80% {\n",
              "      border-color: transparent;\n",
              "      border-right-color: var(--fill-color);\n",
              "      border-bottom-color: var(--fill-color);\n",
              "    }\n",
              "    90% {\n",
              "      border-color: transparent;\n",
              "      border-bottom-color: var(--fill-color);\n",
              "    }\n",
              "  }\n",
              "</style>\n",
              "\n",
              "  <script>\n",
              "    async function quickchart(key) {\n",
              "      const quickchartButtonEl =\n",
              "        document.querySelector('#' + key + ' button');\n",
              "      quickchartButtonEl.disabled = true;  // To prevent multiple clicks.\n",
              "      quickchartButtonEl.classList.add('colab-df-spinner');\n",
              "      try {\n",
              "        const charts = await google.colab.kernel.invokeFunction(\n",
              "            'suggestCharts', [key], {});\n",
              "      } catch (error) {\n",
              "        console.error('Error during call to suggestCharts:', error);\n",
              "      }\n",
              "      quickchartButtonEl.classList.remove('colab-df-spinner');\n",
              "      quickchartButtonEl.classList.add('colab-df-quickchart-complete');\n",
              "    }\n",
              "    (() => {\n",
              "      let quickchartButtonEl =\n",
              "        document.querySelector('#df-24b3e8f9-f5f7-4f4b-ace0-e0eeecc675e9 button');\n",
              "      quickchartButtonEl.style.display =\n",
              "        google.colab.kernel.accessAllowed ? 'block' : 'none';\n",
              "    })();\n",
              "  </script>\n",
              "</div>\n",
              "\n",
              "    </div>\n",
              "  </div>\n"
            ]
          },
          "metadata": {},
          "execution_count": 15
        }
      ]
    },
    {
      "cell_type": "code",
      "source": [
        "cols_to_scale = ['tenure','MonthlyCharges','TotalCharges']\n",
        "\n",
        "from sklearn.preprocessing import MinMaxScaler\n",
        "scaler = MinMaxScaler()\n",
        "df2[cols_to_scale] = scaler.fit_transform(df2[cols_to_scale])"
      ],
      "metadata": {
        "id": "LdCLut-cUls4"
      },
      "execution_count": null,
      "outputs": []
    },
    {
      "cell_type": "code",
      "source": [
        "X = df2.drop('Churn', axis=1)\n",
        "y = df2['Churn']\n",
        "from sklearn.model_selection import train_test_split\n",
        "X_train, X_test, y_train, y_test = train_test_split(X, y, test_size=0.2)"
      ],
      "metadata": {
        "id": "2Wp8yDMmVhnZ"
      },
      "execution_count": null,
      "outputs": []
    },
    {
      "cell_type": "code",
      "source": [
        "model = keras.Sequential([\n",
        "    keras.layers.Dense(26, input_shape=(26,), activation='relu'),\n",
        "    keras.layers.Dense(15, activation='relu'),\n",
        "    keras.layers.Dense(1, activation='sigmoid')\n",
        "])\n",
        "model.compile(optimizer='adam',\n",
        "              loss='binary_crossentropy',\n",
        "              metrics=['accuracy'])\n",
        "\n",
        "model.fit(X_train, y_train, epochs=50)"
      ],
      "metadata": {
        "id": "nykbZjawWNoZ",
        "colab": {
          "base_uri": "https://localhost:8080/"
        },
        "outputId": "c2092b6e-58e5-48f6-d7ec-feeb834223a8"
      },
      "execution_count": null,
      "outputs": [
        {
          "output_type": "stream",
          "name": "stdout",
          "text": [
            "Epoch 1/50\n",
            "176/176 [==============================] - 2s 3ms/step - loss: 0.5068 - accuracy: 0.7579\n",
            "Epoch 2/50\n",
            "176/176 [==============================] - 0s 2ms/step - loss: 0.4275 - accuracy: 0.7906\n",
            "Epoch 3/50\n",
            "176/176 [==============================] - 0s 2ms/step - loss: 0.4177 - accuracy: 0.7993\n",
            "Epoch 4/50\n",
            "176/176 [==============================] - 0s 2ms/step - loss: 0.4153 - accuracy: 0.8011\n",
            "Epoch 5/50\n",
            "176/176 [==============================] - 0s 2ms/step - loss: 0.4117 - accuracy: 0.8032\n",
            "Epoch 6/50\n",
            "176/176 [==============================] - 0s 2ms/step - loss: 0.4102 - accuracy: 0.8082\n",
            "Epoch 7/50\n",
            "176/176 [==============================] - 0s 2ms/step - loss: 0.4087 - accuracy: 0.8085\n",
            "Epoch 8/50\n",
            "176/176 [==============================] - 0s 2ms/step - loss: 0.4068 - accuracy: 0.8064\n",
            "Epoch 9/50\n",
            "176/176 [==============================] - 0s 2ms/step - loss: 0.4060 - accuracy: 0.8073\n",
            "Epoch 10/50\n",
            "176/176 [==============================] - 0s 2ms/step - loss: 0.4056 - accuracy: 0.8078\n",
            "Epoch 11/50\n",
            "176/176 [==============================] - 0s 2ms/step - loss: 0.4029 - accuracy: 0.8112\n",
            "Epoch 12/50\n",
            "176/176 [==============================] - 0s 2ms/step - loss: 0.4025 - accuracy: 0.8117\n",
            "Epoch 13/50\n",
            "176/176 [==============================] - 0s 2ms/step - loss: 0.4007 - accuracy: 0.8130\n",
            "Epoch 14/50\n",
            "176/176 [==============================] - 0s 2ms/step - loss: 0.3992 - accuracy: 0.8117\n",
            "Epoch 15/50\n",
            "176/176 [==============================] - 0s 2ms/step - loss: 0.3972 - accuracy: 0.8121\n",
            "Epoch 16/50\n",
            "176/176 [==============================] - 0s 2ms/step - loss: 0.3971 - accuracy: 0.8096\n",
            "Epoch 17/50\n",
            "176/176 [==============================] - 0s 2ms/step - loss: 0.3959 - accuracy: 0.8112\n",
            "Epoch 18/50\n",
            "176/176 [==============================] - 0s 2ms/step - loss: 0.3944 - accuracy: 0.8124\n",
            "Epoch 19/50\n",
            "176/176 [==============================] - 0s 2ms/step - loss: 0.3940 - accuracy: 0.8130\n",
            "Epoch 20/50\n",
            "176/176 [==============================] - 0s 2ms/step - loss: 0.3924 - accuracy: 0.8164\n",
            "Epoch 21/50\n",
            "176/176 [==============================] - 0s 2ms/step - loss: 0.3917 - accuracy: 0.8169\n",
            "Epoch 22/50\n",
            "176/176 [==============================] - 0s 2ms/step - loss: 0.3904 - accuracy: 0.8155\n",
            "Epoch 23/50\n",
            "176/176 [==============================] - 0s 2ms/step - loss: 0.3909 - accuracy: 0.8146\n",
            "Epoch 24/50\n",
            "176/176 [==============================] - 0s 2ms/step - loss: 0.3887 - accuracy: 0.8135\n",
            "Epoch 25/50\n",
            "176/176 [==============================] - 0s 2ms/step - loss: 0.3884 - accuracy: 0.8156\n",
            "Epoch 26/50\n",
            "176/176 [==============================] - 0s 2ms/step - loss: 0.3874 - accuracy: 0.8144\n",
            "Epoch 27/50\n",
            "176/176 [==============================] - 0s 2ms/step - loss: 0.3861 - accuracy: 0.8176\n",
            "Epoch 28/50\n",
            "176/176 [==============================] - 0s 2ms/step - loss: 0.3852 - accuracy: 0.8190\n",
            "Epoch 29/50\n",
            "176/176 [==============================] - 0s 2ms/step - loss: 0.3852 - accuracy: 0.8174\n",
            "Epoch 30/50\n",
            "176/176 [==============================] - 0s 2ms/step - loss: 0.3821 - accuracy: 0.8199\n",
            "Epoch 31/50\n",
            "176/176 [==============================] - 0s 2ms/step - loss: 0.3834 - accuracy: 0.8213\n",
            "Epoch 32/50\n",
            "176/176 [==============================] - 0s 2ms/step - loss: 0.3818 - accuracy: 0.8199\n",
            "Epoch 33/50\n",
            "176/176 [==============================] - 0s 2ms/step - loss: 0.3810 - accuracy: 0.8194\n",
            "Epoch 34/50\n",
            "176/176 [==============================] - 0s 2ms/step - loss: 0.3810 - accuracy: 0.8204\n",
            "Epoch 35/50\n",
            "176/176 [==============================] - 0s 3ms/step - loss: 0.3804 - accuracy: 0.8204\n",
            "Epoch 36/50\n",
            "176/176 [==============================] - 0s 2ms/step - loss: 0.3784 - accuracy: 0.8204\n",
            "Epoch 37/50\n",
            "176/176 [==============================] - 0s 2ms/step - loss: 0.3787 - accuracy: 0.8215\n",
            "Epoch 38/50\n",
            "176/176 [==============================] - 0s 3ms/step - loss: 0.3767 - accuracy: 0.8251\n",
            "Epoch 39/50\n",
            "176/176 [==============================] - 0s 3ms/step - loss: 0.3761 - accuracy: 0.8245\n",
            "Epoch 40/50\n",
            "176/176 [==============================] - 0s 3ms/step - loss: 0.3761 - accuracy: 0.8228\n",
            "Epoch 41/50\n",
            "176/176 [==============================] - 0s 3ms/step - loss: 0.3754 - accuracy: 0.8235\n",
            "Epoch 42/50\n",
            "176/176 [==============================] - 0s 2ms/step - loss: 0.3748 - accuracy: 0.8224\n",
            "Epoch 43/50\n",
            "176/176 [==============================] - 0s 2ms/step - loss: 0.3746 - accuracy: 0.8261\n",
            "Epoch 44/50\n",
            "176/176 [==============================] - 0s 2ms/step - loss: 0.3729 - accuracy: 0.8231\n",
            "Epoch 45/50\n",
            "176/176 [==============================] - 0s 2ms/step - loss: 0.3731 - accuracy: 0.8233\n",
            "Epoch 46/50\n",
            "176/176 [==============================] - 0s 2ms/step - loss: 0.3721 - accuracy: 0.8277\n",
            "Epoch 47/50\n",
            "176/176 [==============================] - 0s 2ms/step - loss: 0.3707 - accuracy: 0.8265\n",
            "Epoch 48/50\n",
            "176/176 [==============================] - 0s 2ms/step - loss: 0.3713 - accuracy: 0.8254\n",
            "Epoch 49/50\n",
            "176/176 [==============================] - 0s 2ms/step - loss: 0.3699 - accuracy: 0.8240\n",
            "Epoch 50/50\n",
            "176/176 [==============================] - 0s 2ms/step - loss: 0.3694 - accuracy: 0.8247\n"
          ]
        },
        {
          "output_type": "execute_result",
          "data": {
            "text/plain": [
              "<keras.src.callbacks.History at 0x7955866ae860>"
            ]
          },
          "metadata": {},
          "execution_count": 18
        }
      ]
    },
    {
      "cell_type": "code",
      "source": [
        "model.evaluate(X_test, y_test)"
      ],
      "metadata": {
        "id": "DA6Qxnq4XXHE",
        "colab": {
          "base_uri": "https://localhost:8080/"
        },
        "outputId": "7f0ba4ad-9592-4298-af4d-ef1c7a2a7cbd"
      },
      "execution_count": null,
      "outputs": [
        {
          "output_type": "stream",
          "name": "stdout",
          "text": [
            "44/44 [==============================] - 0s 2ms/step - loss: 0.4716 - accuracy: 0.7783\n"
          ]
        },
        {
          "output_type": "execute_result",
          "data": {
            "text/plain": [
              "[0.4716126322746277, 0.778251588344574]"
            ]
          },
          "metadata": {},
          "execution_count": 19
        }
      ]
    },
    {
      "cell_type": "code",
      "source": [
        "yp = model.predict(X_test)"
      ],
      "metadata": {
        "id": "cqksEIEmYwf2",
        "colab": {
          "base_uri": "https://localhost:8080/"
        },
        "outputId": "04011e65-169e-4a25-b6aa-c7a7b442f4ee"
      },
      "execution_count": null,
      "outputs": [
        {
          "output_type": "stream",
          "name": "stdout",
          "text": [
            "44/44 [==============================] - 0s 1ms/step\n"
          ]
        }
      ]
    },
    {
      "cell_type": "code",
      "source": [
        "y_pred = []\n",
        "for i in yp:\n",
        "  if i>=0.5:\n",
        "    y_pred.append(1)\n",
        "  else:\n",
        "    y_pred.append(0)"
      ],
      "metadata": {
        "id": "loT0p2HgY6AW"
      },
      "execution_count": null,
      "outputs": []
    },
    {
      "cell_type": "code",
      "source": [
        "from sklearn.metrics import confusion_matrix, classification_report\n",
        "print(classification_report(y_test, y_pred))"
      ],
      "metadata": {
        "colab": {
          "base_uri": "https://localhost:8080/"
        },
        "id": "RqkULQoNZYPA",
        "outputId": "68677fbe-17af-47d1-d577-0ce970ac9a98"
      },
      "execution_count": null,
      "outputs": [
        {
          "output_type": "stream",
          "name": "stdout",
          "text": [
            "              precision    recall  f1-score   support\n",
            "\n",
            "           0       0.83      0.87      0.85      1023\n",
            "           1       0.61      0.54      0.57       384\n",
            "\n",
            "    accuracy                           0.78      1407\n",
            "   macro avg       0.72      0.70      0.71      1407\n",
            "weighted avg       0.77      0.78      0.77      1407\n",
            "\n"
          ]
        }
      ]
    },
    {
      "cell_type": "code",
      "source": [
        "# METHOD 1: UNDERSAMPLING\n",
        "count_class_0, count_class_1 = df1.Churn.value_counts()\n",
        "df_class_0 = df2[df2['Churn'] == 0]\n",
        "df_class_1 = df2[df2['Churn'] == 1]"
      ],
      "metadata": {
        "id": "DJN8IyF3Zzev"
      },
      "execution_count": null,
      "outputs": []
    },
    {
      "cell_type": "code",
      "source": [
        "df_class_0_under = df_class_0.sample(count_class_1)\n",
        "df_test_under = pd.concat([df_class_0_under, df_class_1], axis=0)"
      ],
      "metadata": {
        "id": "d3pcqXs92EU5"
      },
      "execution_count": null,
      "outputs": []
    },
    {
      "cell_type": "code",
      "source": [
        "X = df_test_under.drop('Churn', axis=1)\n",
        "y = df_test_under['Churn']"
      ],
      "metadata": {
        "id": "e0xEjFmd2xHL"
      },
      "execution_count": null,
      "outputs": []
    },
    {
      "cell_type": "code",
      "source": [
        "from sklearn.model_selection import train_test_split\n",
        "X_train, X_test, y_train, y_test = train_test_split(X, y, test_size=0.2, stratify=y)"
      ],
      "metadata": {
        "id": "CvE9m1-I3G8e"
      },
      "execution_count": null,
      "outputs": []
    },
    {
      "cell_type": "code",
      "source": [
        "model = keras.Sequential([\n",
        "    keras.layers.Dense(26, input_shape=(26,), activation='relu'),\n",
        "    keras.layers.Dense(15, activation='relu'),\n",
        "    keras.layers.Dense(1, activation='sigmoid')\n",
        "])\n",
        "model.compile(optimizer='adam',\n",
        "              loss='binary_crossentropy',\n",
        "              metrics=['accuracy'])\n",
        "\n",
        "model.fit(X_train, y_train, epochs=50)"
      ],
      "metadata": {
        "id": "aorq__us3XPX"
      },
      "execution_count": null,
      "outputs": []
    },
    {
      "cell_type": "code",
      "source": [
        "import numpy as np\n",
        "y_preds = model.predict(X_test)\n",
        "y_preds = np.round(y_preds)\n",
        "from sklearn.metrics import confusion_matrix, classification_report\n",
        "print(classification_report(y_test, y_preds))"
      ],
      "metadata": {
        "colab": {
          "base_uri": "https://localhost:8080/"
        },
        "id": "3_RLWq3b3mwN",
        "outputId": "1d00bbba-7509-4445-bb20-f45a54d6b0f4"
      },
      "execution_count": null,
      "outputs": [
        {
          "output_type": "stream",
          "name": "stdout",
          "text": [
            "24/24 [==============================] - 0s 2ms/step\n",
            "              precision    recall  f1-score   support\n",
            "\n",
            "           0       0.72      0.66      0.69       374\n",
            "           1       0.69      0.75      0.72       374\n",
            "\n",
            "    accuracy                           0.70       748\n",
            "   macro avg       0.71      0.70      0.70       748\n",
            "weighted avg       0.71      0.70      0.70       748\n",
            "\n"
          ]
        }
      ]
    },
    {
      "cell_type": "code",
      "source": [
        "# METHOD 2: OVERSAMPLING\n",
        "df_class_1_over = df_class_1.sample(count_class_0, replace=True)\n",
        "df_test_over = pd.concat([df_class_0, df_class_1_over], axis=0)"
      ],
      "metadata": {
        "id": "ZdA5izFA36hC"
      },
      "execution_count": null,
      "outputs": []
    },
    {
      "cell_type": "code",
      "source": [
        "X = df_test_over.drop('Churn', axis=1)\n",
        "y = df_test_over['Churn']\n",
        "from sklearn.model_selection import train_test_split\n",
        "X_train, X_test, y_train, y_test = train_test_split(X, y, test_size=0.2, stratify=y)"
      ],
      "metadata": {
        "id": "_Fp7EvaY6l_-"
      },
      "execution_count": null,
      "outputs": []
    },
    {
      "cell_type": "code",
      "source": [
        "model = keras.Sequential([\n",
        "    keras.layers.Dense(26, input_shape=(26,), activation='relu'),\n",
        "    keras.layers.Dense(15, activation='relu'),\n",
        "    keras.layers.Dense(1, activation='sigmoid')\n",
        "])\n",
        "model.compile(optimizer='adam',\n",
        "              loss='binary_crossentropy',\n",
        "              metrics=['accuracy'])\n",
        "\n",
        "model.fit(X_train, y_train, epochs=50)"
      ],
      "metadata": {
        "colab": {
          "base_uri": "https://localhost:8080/"
        },
        "id": "SYCJP7sq64xY",
        "outputId": "b11b8a35-d357-4d01-876c-62108369f00d"
      },
      "execution_count": null,
      "outputs": [
        {
          "output_type": "stream",
          "name": "stdout",
          "text": [
            "Epoch 1/50\n",
            "259/259 [==============================] - 4s 6ms/step - loss: 0.5252 - accuracy: 0.7427\n",
            "Epoch 2/50\n",
            "259/259 [==============================] - 1s 5ms/step - loss: 0.4874 - accuracy: 0.7639\n",
            "Epoch 3/50\n",
            "259/259 [==============================] - 1s 4ms/step - loss: 0.4813 - accuracy: 0.7640\n",
            "Epoch 4/50\n",
            "259/259 [==============================] - 2s 6ms/step - loss: 0.4774 - accuracy: 0.7678\n",
            "Epoch 5/50\n",
            "259/259 [==============================] - 1s 4ms/step - loss: 0.4735 - accuracy: 0.7677\n",
            "Epoch 6/50\n",
            "259/259 [==============================] - 1s 3ms/step - loss: 0.4724 - accuracy: 0.7699\n",
            "Epoch 7/50\n",
            "259/259 [==============================] - 1s 2ms/step - loss: 0.4693 - accuracy: 0.7712\n",
            "Epoch 8/50\n",
            "259/259 [==============================] - 1s 4ms/step - loss: 0.4669 - accuracy: 0.7719\n",
            "Epoch 9/50\n",
            "259/259 [==============================] - 1s 3ms/step - loss: 0.4643 - accuracy: 0.7732\n",
            "Epoch 10/50\n",
            "259/259 [==============================] - 1s 4ms/step - loss: 0.4625 - accuracy: 0.7732\n",
            "Epoch 11/50\n",
            "259/259 [==============================] - 1s 5ms/step - loss: 0.4598 - accuracy: 0.7753\n",
            "Epoch 12/50\n",
            "259/259 [==============================] - 1s 4ms/step - loss: 0.4580 - accuracy: 0.7786\n",
            "Epoch 13/50\n",
            "259/259 [==============================] - 1s 3ms/step - loss: 0.4553 - accuracy: 0.7808\n",
            "Epoch 14/50\n",
            "259/259 [==============================] - 0s 2ms/step - loss: 0.4547 - accuracy: 0.7793\n",
            "Epoch 15/50\n",
            "259/259 [==============================] - 0s 2ms/step - loss: 0.4528 - accuracy: 0.7792\n",
            "Epoch 16/50\n",
            "259/259 [==============================] - 0s 2ms/step - loss: 0.4512 - accuracy: 0.7827\n",
            "Epoch 17/50\n",
            "259/259 [==============================] - 0s 2ms/step - loss: 0.4495 - accuracy: 0.7843\n",
            "Epoch 18/50\n",
            "259/259 [==============================] - 0s 2ms/step - loss: 0.4476 - accuracy: 0.7851\n",
            "Epoch 19/50\n",
            "259/259 [==============================] - 0s 2ms/step - loss: 0.4451 - accuracy: 0.7858\n",
            "Epoch 20/50\n",
            "259/259 [==============================] - 0s 2ms/step - loss: 0.4442 - accuracy: 0.7868\n",
            "Epoch 21/50\n",
            "259/259 [==============================] - 0s 2ms/step - loss: 0.4418 - accuracy: 0.7892\n",
            "Epoch 22/50\n",
            "259/259 [==============================] - 0s 2ms/step - loss: 0.4426 - accuracy: 0.7891\n",
            "Epoch 23/50\n",
            "259/259 [==============================] - 0s 2ms/step - loss: 0.4393 - accuracy: 0.7908\n",
            "Epoch 24/50\n",
            "259/259 [==============================] - 0s 2ms/step - loss: 0.4390 - accuracy: 0.7931\n",
            "Epoch 25/50\n",
            "259/259 [==============================] - 0s 2ms/step - loss: 0.4377 - accuracy: 0.7903\n",
            "Epoch 26/50\n",
            "259/259 [==============================] - 0s 2ms/step - loss: 0.4357 - accuracy: 0.7938\n",
            "Epoch 27/50\n",
            "259/259 [==============================] - 0s 2ms/step - loss: 0.4340 - accuracy: 0.7961\n",
            "Epoch 28/50\n",
            "259/259 [==============================] - 0s 2ms/step - loss: 0.4331 - accuracy: 0.7948\n",
            "Epoch 29/50\n",
            "259/259 [==============================] - 0s 2ms/step - loss: 0.4322 - accuracy: 0.7971\n",
            "Epoch 30/50\n",
            "259/259 [==============================] - 0s 2ms/step - loss: 0.4291 - accuracy: 0.7975\n",
            "Epoch 31/50\n",
            "259/259 [==============================] - 0s 2ms/step - loss: 0.4294 - accuracy: 0.7988\n",
            "Epoch 32/50\n",
            "259/259 [==============================] - 0s 2ms/step - loss: 0.4260 - accuracy: 0.8024\n",
            "Epoch 33/50\n",
            "259/259 [==============================] - 0s 2ms/step - loss: 0.4254 - accuracy: 0.8001\n",
            "Epoch 34/50\n",
            "259/259 [==============================] - 0s 2ms/step - loss: 0.4245 - accuracy: 0.8005\n",
            "Epoch 35/50\n",
            "259/259 [==============================] - 0s 2ms/step - loss: 0.4237 - accuracy: 0.7999\n",
            "Epoch 36/50\n",
            "259/259 [==============================] - 1s 2ms/step - loss: 0.4210 - accuracy: 0.8030\n",
            "Epoch 37/50\n",
            "259/259 [==============================] - 1s 2ms/step - loss: 0.4200 - accuracy: 0.8001\n",
            "Epoch 38/50\n",
            "259/259 [==============================] - 1s 2ms/step - loss: 0.4188 - accuracy: 0.8025\n",
            "Epoch 39/50\n",
            "259/259 [==============================] - 1s 2ms/step - loss: 0.4173 - accuracy: 0.8029\n",
            "Epoch 40/50\n",
            "259/259 [==============================] - 1s 2ms/step - loss: 0.4169 - accuracy: 0.8028\n",
            "Epoch 41/50\n",
            "259/259 [==============================] - 1s 2ms/step - loss: 0.4155 - accuracy: 0.8062\n",
            "Epoch 42/50\n",
            "259/259 [==============================] - 0s 2ms/step - loss: 0.4134 - accuracy: 0.8063\n",
            "Epoch 43/50\n",
            "259/259 [==============================] - 0s 2ms/step - loss: 0.4128 - accuracy: 0.8053\n",
            "Epoch 44/50\n",
            "259/259 [==============================] - 0s 2ms/step - loss: 0.4116 - accuracy: 0.8069\n",
            "Epoch 45/50\n",
            "259/259 [==============================] - 0s 2ms/step - loss: 0.4103 - accuracy: 0.8079\n",
            "Epoch 46/50\n",
            "259/259 [==============================] - 0s 2ms/step - loss: 0.4099 - accuracy: 0.8065\n",
            "Epoch 47/50\n",
            "259/259 [==============================] - 0s 2ms/step - loss: 0.4091 - accuracy: 0.8102\n",
            "Epoch 48/50\n",
            "259/259 [==============================] - 0s 2ms/step - loss: 0.4074 - accuracy: 0.8082\n",
            "Epoch 49/50\n",
            "259/259 [==============================] - 0s 2ms/step - loss: 0.4074 - accuracy: 0.8099\n",
            "Epoch 50/50\n",
            "259/259 [==============================] - 0s 2ms/step - loss: 0.4061 - accuracy: 0.8073\n"
          ]
        },
        {
          "output_type": "execute_result",
          "data": {
            "text/plain": [
              "<keras.src.callbacks.History at 0x79558de65b40>"
            ]
          },
          "metadata": {},
          "execution_count": 34
        }
      ]
    },
    {
      "cell_type": "code",
      "source": [
        "import numpy as np\n",
        "y_preds = model.predict(X_test)\n",
        "y_preds = np.round(y_preds)\n",
        "from sklearn.metrics import confusion_matrix, classification_report\n",
        "print(classification_report(y_test, y_preds))"
      ],
      "metadata": {
        "colab": {
          "base_uri": "https://localhost:8080/"
        },
        "id": "Tn_o8nAN7POn",
        "outputId": "7280e3b1-85ad-4d39-f68b-fd5d51a8cb85"
      },
      "execution_count": null,
      "outputs": [
        {
          "output_type": "stream",
          "name": "stdout",
          "text": [
            "65/65 [==============================] - 0s 2ms/step\n",
            "              precision    recall  f1-score   support\n",
            "\n",
            "           0       0.77      0.78      0.77      1033\n",
            "           1       0.78      0.76      0.77      1033\n",
            "\n",
            "    accuracy                           0.77      2066\n",
            "   macro avg       0.77      0.77      0.77      2066\n",
            "weighted avg       0.77      0.77      0.77      2066\n",
            "\n"
          ]
        }
      ]
    },
    {
      "cell_type": "code",
      "source": [
        "# METHOD 3: SMOTE\n",
        "X = df2.drop('Churn',axis='columns')\n",
        "y = df2['Churn']"
      ],
      "metadata": {
        "id": "XKaGkj_77atn"
      },
      "execution_count": null,
      "outputs": []
    },
    {
      "cell_type": "code",
      "source": [
        "!pip install imbalanced-learn"
      ],
      "metadata": {
        "id": "08h5OinG83Qn"
      },
      "execution_count": null,
      "outputs": []
    },
    {
      "cell_type": "code",
      "source": [
        "from imblearn.over_sampling import SMOTE\n",
        "smote = SMOTE(sampling_strategy='minority')\n",
        "X_sm, y_sm = smote.fit_resample(X, y)\n",
        "y_sm.value_counts()"
      ],
      "metadata": {
        "id": "7Zfc8uqG9B7k"
      },
      "execution_count": null,
      "outputs": []
    },
    {
      "cell_type": "code",
      "source": [
        "from sklearn.model_selection import train_test_split\n",
        "X_train, X_test, y_train, y_test = train_test_split(X_sm, y_sm, test_size=0.2, stratify=y_sm)"
      ],
      "metadata": {
        "id": "JU3JtT3T9UmZ"
      },
      "execution_count": null,
      "outputs": []
    },
    {
      "cell_type": "code",
      "source": [
        "model = keras.Sequential([\n",
        "    keras.layers.Dense(26, input_shape=(26,), activation='relu'),\n",
        "    keras.layers.Dense(15, activation='relu'),\n",
        "    keras.layers.Dense(1, activation='sigmoid')\n",
        "])\n",
        "model.compile(optimizer='adam',\n",
        "              loss='binary_crossentropy',\n",
        "              metrics=['accuracy'])\n",
        "\n",
        "model.fit(X_train, y_train, epochs=50)"
      ],
      "metadata": {
        "colab": {
          "base_uri": "https://localhost:8080/"
        },
        "id": "6knrs_cv9-UN",
        "outputId": "e4fd2994-248c-4adb-c9bd-d782840b66eb"
      },
      "execution_count": null,
      "outputs": [
        {
          "output_type": "stream",
          "name": "stdout",
          "text": [
            "Epoch 1/50\n",
            "259/259 [==============================] - 1s 2ms/step - loss: 0.5405 - accuracy: 0.7328\n",
            "Epoch 2/50\n",
            "259/259 [==============================] - 0s 2ms/step - loss: 0.4826 - accuracy: 0.7659\n",
            "Epoch 3/50\n",
            "259/259 [==============================] - 0s 2ms/step - loss: 0.4729 - accuracy: 0.7697\n",
            "Epoch 4/50\n",
            "259/259 [==============================] - 1s 2ms/step - loss: 0.4653 - accuracy: 0.7748\n",
            "Epoch 5/50\n",
            "259/259 [==============================] - 1s 2ms/step - loss: 0.4588 - accuracy: 0.7778\n",
            "Epoch 6/50\n",
            "259/259 [==============================] - 0s 2ms/step - loss: 0.4532 - accuracy: 0.7824\n",
            "Epoch 7/50\n",
            "259/259 [==============================] - 1s 3ms/step - loss: 0.4495 - accuracy: 0.7827\n",
            "Epoch 8/50\n",
            "259/259 [==============================] - 1s 3ms/step - loss: 0.4430 - accuracy: 0.7901\n",
            "Epoch 9/50\n",
            "259/259 [==============================] - 1s 3ms/step - loss: 0.4398 - accuracy: 0.7931\n",
            "Epoch 10/50\n",
            "259/259 [==============================] - 1s 3ms/step - loss: 0.4358 - accuracy: 0.7924\n",
            "Epoch 11/50\n",
            "259/259 [==============================] - 1s 3ms/step - loss: 0.4324 - accuracy: 0.7981\n",
            "Epoch 12/50\n",
            "259/259 [==============================] - 1s 2ms/step - loss: 0.4301 - accuracy: 0.7976\n",
            "Epoch 13/50\n",
            "259/259 [==============================] - 0s 2ms/step - loss: 0.4274 - accuracy: 0.8024\n",
            "Epoch 14/50\n",
            "259/259 [==============================] - 1s 2ms/step - loss: 0.4246 - accuracy: 0.8030\n",
            "Epoch 15/50\n",
            "259/259 [==============================] - 0s 2ms/step - loss: 0.4209 - accuracy: 0.8054\n",
            "Epoch 16/50\n",
            "259/259 [==============================] - 0s 2ms/step - loss: 0.4190 - accuracy: 0.8034\n",
            "Epoch 17/50\n",
            "259/259 [==============================] - 0s 2ms/step - loss: 0.4157 - accuracy: 0.8079\n",
            "Epoch 18/50\n",
            "259/259 [==============================] - 1s 2ms/step - loss: 0.4135 - accuracy: 0.8133\n",
            "Epoch 19/50\n",
            "259/259 [==============================] - 0s 2ms/step - loss: 0.4123 - accuracy: 0.8123\n",
            "Epoch 20/50\n",
            "259/259 [==============================] - 1s 2ms/step - loss: 0.4083 - accuracy: 0.8148\n",
            "Epoch 21/50\n",
            "259/259 [==============================] - 1s 2ms/step - loss: 0.4076 - accuracy: 0.8093\n",
            "Epoch 22/50\n",
            "259/259 [==============================] - 1s 2ms/step - loss: 0.4036 - accuracy: 0.8185\n",
            "Epoch 23/50\n",
            "259/259 [==============================] - 1s 2ms/step - loss: 0.4025 - accuracy: 0.8137\n",
            "Epoch 24/50\n",
            "259/259 [==============================] - 1s 2ms/step - loss: 0.3991 - accuracy: 0.8196\n",
            "Epoch 25/50\n",
            "259/259 [==============================] - 1s 2ms/step - loss: 0.4003 - accuracy: 0.8173\n",
            "Epoch 26/50\n",
            "259/259 [==============================] - 1s 2ms/step - loss: 0.3963 - accuracy: 0.8195\n",
            "Epoch 27/50\n",
            "259/259 [==============================] - 0s 2ms/step - loss: 0.3968 - accuracy: 0.8196\n",
            "Epoch 28/50\n",
            "259/259 [==============================] - 1s 2ms/step - loss: 0.3944 - accuracy: 0.8194\n",
            "Epoch 29/50\n",
            "259/259 [==============================] - 0s 2ms/step - loss: 0.3909 - accuracy: 0.8240\n",
            "Epoch 30/50\n",
            "259/259 [==============================] - 1s 2ms/step - loss: 0.3905 - accuracy: 0.8215\n",
            "Epoch 31/50\n",
            "259/259 [==============================] - 0s 2ms/step - loss: 0.3897 - accuracy: 0.8228\n",
            "Epoch 32/50\n",
            "259/259 [==============================] - 1s 3ms/step - loss: 0.3892 - accuracy: 0.8217\n",
            "Epoch 33/50\n",
            "259/259 [==============================] - 1s 3ms/step - loss: 0.3865 - accuracy: 0.8280\n",
            "Epoch 34/50\n",
            "259/259 [==============================] - 1s 3ms/step - loss: 0.3855 - accuracy: 0.8270\n",
            "Epoch 35/50\n",
            "259/259 [==============================] - 1s 3ms/step - loss: 0.3845 - accuracy: 0.8246\n",
            "Epoch 36/50\n",
            "259/259 [==============================] - 1s 3ms/step - loss: 0.3842 - accuracy: 0.8297\n",
            "Epoch 37/50\n",
            "259/259 [==============================] - 1s 2ms/step - loss: 0.3844 - accuracy: 0.8251\n",
            "Epoch 38/50\n",
            "259/259 [==============================] - 1s 2ms/step - loss: 0.3806 - accuracy: 0.8276\n",
            "Epoch 39/50\n",
            "259/259 [==============================] - 1s 2ms/step - loss: 0.3800 - accuracy: 0.8303\n",
            "Epoch 40/50\n",
            "259/259 [==============================] - 1s 2ms/step - loss: 0.3776 - accuracy: 0.8311\n",
            "Epoch 41/50\n",
            "259/259 [==============================] - 0s 2ms/step - loss: 0.3768 - accuracy: 0.8299\n",
            "Epoch 42/50\n",
            "259/259 [==============================] - 1s 2ms/step - loss: 0.3783 - accuracy: 0.8287\n",
            "Epoch 43/50\n",
            "259/259 [==============================] - 0s 2ms/step - loss: 0.3766 - accuracy: 0.8287\n",
            "Epoch 44/50\n",
            "259/259 [==============================] - 1s 2ms/step - loss: 0.3749 - accuracy: 0.8311\n",
            "Epoch 45/50\n",
            "259/259 [==============================] - 1s 2ms/step - loss: 0.3749 - accuracy: 0.8280\n",
            "Epoch 46/50\n",
            "259/259 [==============================] - 1s 2ms/step - loss: 0.3733 - accuracy: 0.8308\n",
            "Epoch 47/50\n",
            "259/259 [==============================] - 0s 2ms/step - loss: 0.3716 - accuracy: 0.8276\n",
            "Epoch 48/50\n",
            "259/259 [==============================] - 0s 2ms/step - loss: 0.3710 - accuracy: 0.8301\n",
            "Epoch 49/50\n",
            "259/259 [==============================] - 0s 2ms/step - loss: 0.3688 - accuracy: 0.8347\n",
            "Epoch 50/50\n",
            "259/259 [==============================] - 1s 2ms/step - loss: 0.3685 - accuracy: 0.8351\n"
          ]
        },
        {
          "output_type": "execute_result",
          "data": {
            "text/plain": [
              "<keras.src.callbacks.History at 0x795576d835e0>"
            ]
          },
          "metadata": {},
          "execution_count": 50
        }
      ]
    },
    {
      "cell_type": "code",
      "source": [
        "import numpy as np\n",
        "y_preds = model.predict(X_test)\n",
        "y_preds = np.round(y_preds)\n",
        "from sklearn.metrics import confusion_matrix, classification_report\n",
        "print(classification_report(y_test, y_preds))"
      ],
      "metadata": {
        "colab": {
          "base_uri": "https://localhost:8080/"
        },
        "id": "6KPj2A9b-C1v",
        "outputId": "31c0be46-df8a-477c-9ed2-00598a78de44"
      },
      "execution_count": null,
      "outputs": [
        {
          "output_type": "stream",
          "name": "stdout",
          "text": [
            "65/65 [==============================] - 0s 1ms/step\n",
            "              precision    recall  f1-score   support\n",
            "\n",
            "           0       0.85      0.75      0.80      1033\n",
            "           1       0.78      0.87      0.82      1033\n",
            "\n",
            "    accuracy                           0.81      2066\n",
            "   macro avg       0.82      0.81      0.81      2066\n",
            "weighted avg       0.82      0.81      0.81      2066\n",
            "\n"
          ]
        }
      ]
    },
    {
      "cell_type": "code",
      "source": [
        "# METHOD 4: USE OF ENSEMBLE LEARNING\n",
        "X = df2.drop('Churn',axis='columns')\n",
        "y = df2['Churn']\n",
        "from sklearn.model_selection import train_test_split\n",
        "X_train, X_test, y_train, y_test = train_test_split(X, y, test_size=0.2, stratify=y)"
      ],
      "metadata": {
        "id": "gx-mNeW_-N6c"
      },
      "execution_count": null,
      "outputs": []
    },
    {
      "cell_type": "code",
      "source": [
        "df3 = X_train.copy()\n",
        "df3['Churn'] = y_train"
      ],
      "metadata": {
        "id": "zpfimeDo_bG2"
      },
      "execution_count": null,
      "outputs": []
    },
    {
      "cell_type": "code",
      "source": [
        "df3_class0 = df3[df3.Churn==0]\n",
        "df3_class1 = df3[df3.Churn==1]"
      ],
      "metadata": {
        "id": "p0WWESJhAVQE"
      },
      "execution_count": null,
      "outputs": []
    },
    {
      "cell_type": "code",
      "source": [
        "def get_train_batch(df_majority, df_minority, start, end):\n",
        "    df_train = pd.concat([df_majority[start:end], df_minority], axis=0)\n",
        "\n",
        "    X_train = df_train.drop('Churn', axis='columns')\n",
        "    y_train = df_train.Churn\n",
        "    return X_train, y_train"
      ],
      "metadata": {
        "id": "UW6455MSAaFt"
      },
      "execution_count": null,
      "outputs": []
    },
    {
      "cell_type": "code",
      "source": [],
      "metadata": {
        "id": "0jeXy8cjBDcN"
      },
      "execution_count": null,
      "outputs": []
    }
  ],
  "metadata": {
    "colab": {
      "provenance": [],
      "authorship_tag": "ABX9TyNeZbhNHaRPPCkcLqC/qOBO",
      "include_colab_link": true
    },
    "kernelspec": {
      "display_name": "Python 3",
      "name": "python3"
    },
    "language_info": {
      "name": "python"
    }
  },
  "nbformat": 4,
  "nbformat_minor": 0
}